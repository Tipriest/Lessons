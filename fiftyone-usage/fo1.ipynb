{
 "cells": [
  {
   "cell_type": "markdown",
   "metadata": {},
   "source": [
    "## Fiftyonw使用教程(一)"
   ]
  },
  {
   "cell_type": "markdown",
   "metadata": {},
   "source": [
    "#### 1. 加载fiftyone的modelzoo提供的数据集"
   ]
  },
  {
   "cell_type": "code",
   "execution_count": null,
   "metadata": {},
   "outputs": [],
   "source": [
    "import fiftyone as fo\n",
    "import fiftyone.zoo as foz\n",
    "\n",
    "dataset = foz.load_zoo_dataset(\"voc-2007\")\n",
    "session = fo.launch_app(dataset)"
   ]
  },
  {
   "cell_type": "markdown",
   "metadata": {},
   "source": [
    "#### 1. 加载fiftyone的modelzoo提供的数据集"
   ]
  },
  {
   "cell_type": "code",
   "execution_count": null,
   "metadata": {},
   "outputs": [],
   "source": [
    "import fiftyone as fo\n",
    "import fiftyone.zoo as foz\n",
    "dataset = fo.load_dataset(\"detect-dataset\")\n",
    "session = fo.launch_app(dataset)"
   ]
  },
  {
   "cell_type": "code",
   "execution_count": null,
   "metadata": {},
   "outputs": [],
   "source": [
    "fo.list_datasets()\n",
    "fo.delete_dataset('detect-dataset2')\n",
    "fo.list_datasets()"
   ]
  },
  {
   "cell_type": "code",
   "execution_count": null,
   "metadata": {},
   "outputs": [],
   "source": [
    "port = session._client.port\n",
    "print(f\"Open browser at: http://localhost:{port}\")"
   ]
  },
  {
   "cell_type": "code",
   "execution_count": null,
   "metadata": {},
   "outputs": [],
   "source": [
    "session.view = dataset.take(10)\n",
    "session.close()"
   ]
  },
  {
   "cell_type": "code",
   "execution_count": null,
   "metadata": {},
   "outputs": [],
   "source": [
    "import fiftyone as fo\n",
    "\n",
    "name = \"detect-dataset2\"\n",
    "dataset_dir = \"/home/tipriest/data/detect/datasets/\"\n",
    "\n",
    "# Create the dataset\n",
    "dataset = fo.Dataset.from_dir(\n",
    "    dataset_dir=dataset_dir,\n",
    "    dataset_type=fo.types.ImageDirectory,\n",
    "    name=name,\n",
    ")\n",
    "\n",
    "# View summary info about the dataset\n",
    "print(dataset)\n",
    "\n",
    "# Print the first few samples in the dataset\n",
    "print(dataset.head())\n",
    "session = fo.launch_app(dataset)"
   ]
  },
  {
   "cell_type": "markdown",
   "metadata": {},
   "source": [
    "### For Custom Format"
   ]
  },
  {
   "cell_type": "code",
   "execution_count": null,
   "metadata": {},
   "outputs": [],
   "source": [
    "import glob\n",
    "import fiftyone as fo\n",
    "import os\n",
    "\n",
    "images_patt = \"/home/tipriest/data/detect/\"\n",
    "txt_path = \"/home/tipriest/data/detect/annatations/cls_train.txt\"\n",
    "    \n",
    "samples = []\n",
    "with open(txt_path, 'r', encoding='utf-8') as f:\n",
    "    for line in f:\n",
    "        line = line.strip()\n",
    "        if not line: continue\n",
    "        # 分割标签和路径部分\n",
    "        parts = line.split(';', 1)\n",
    "        if len(parts) < 2: continue\n",
    "        # 提取路径段\n",
    "        path_segment = parts[-1].replace(\"\\\\\", \"/\")  # 取方括号之后的部分\n",
    "        full_path = os.path.join(images_patt, path_segment)\n",
    "        sample = fo.Sample(filepath=full_path)\n",
    "        sample[\"ground_truth\"] = parts[0]\n",
    "        \n",
    "        samples.append(sample)\n",
    "        \n",
    "\n",
    "    \n",
    "    \n",
    "# Create dataset\n",
    "dataset = fo.Dataset(\"my-classification-dataset\")\n",
    "dataset.add_samples(samples)\n",
    "dataset = fo.load_dataset(\"my-classification-dataset\")\n",
    "session = fo.launch_app(dataset)\n"
   ]
  },
  {
   "cell_type": "code",
   "execution_count": null,
   "metadata": {},
   "outputs": [],
   "source": [
    "import fiftyone as fo \n",
    "fo.delete_dataset(\"my-classification-dataset\")"
   ]
  }
 ],
 "metadata": {
  "kernelspec": {
   "display_name": "detect",
   "language": "python",
   "name": "python3"
  },
  "language_info": {
   "codemirror_mode": {
    "name": "ipython",
    "version": 3
   },
   "file_extension": ".py",
   "mimetype": "text/x-python",
   "name": "python",
   "nbconvert_exporter": "python",
   "pygments_lexer": "ipython3",
   "version": "3.9.20"
  }
 },
 "nbformat": 4,
 "nbformat_minor": 2
}
